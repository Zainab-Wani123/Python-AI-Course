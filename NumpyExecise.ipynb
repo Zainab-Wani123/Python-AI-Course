{
 "cells": [
  {
   "cell_type": "markdown",
   "id": "a4606982-6b59-4e22-9db4-99c2e5b2b655",
   "metadata": {},
   "source": [
    "# Array Tasks:\n",
    "\n",
    "- Create a 1D NumPy array with values from 10 to 50\n",
    "- Create a 2D NumPy array of shape (3, 3) with values 1–9\n",
    "- Find the shape and size of both arrays\n",
    "- Access the middle element of the 2D array\n",
    "- Slice the last 2 elements from the 1D array\n"
   ]
  },
  {
   "cell_type": "code",
   "execution_count": 2,
   "id": "3f940154-b239-4e62-a46f-998b96ef02c1",
   "metadata": {},
   "outputs": [],
   "source": [
    "import numpy as np"
   ]
  },
  {
   "cell_type": "code",
   "execution_count": 49,
   "id": "160b6b47-320e-4c49-8a6b-d3a7811e2823",
   "metadata": {},
   "outputs": [
    {
     "name": "stdout",
     "output_type": "stream",
     "text": [
      "1d array:\n",
      " [10 11 12 13 14 15 16 17 18 19 20 21 22 23 24 25 26 27 28 29 30 31 32 33\n",
      " 34 35 36 37 38 39 40 41 42 43 44 45 46 47 48 49 50]\n",
      "\n",
      "Size: 41\n",
      "\n",
      " Last two elements of array are: [49 50]\n"
     ]
    }
   ],
   "source": [
    "arr_1d = np.arange(10, 51)\n",
    "print(\"1d array:\\n\",arr_1d)\n",
    "print(\"\\nSize:\",arr_1d.size)\n",
    "print(\"\\n Last two elements of array are:\",arr_1d[-2:])"
   ]
  },
  {
   "cell_type": "code",
   "execution_count": 39,
   "id": "c101e66e-e1a4-49d8-b9dc-557076612bea",
   "metadata": {},
   "outputs": [
    {
     "name": "stdout",
     "output_type": "stream",
     "text": [
      "2d array:\n",
      " [[1 2 3]\n",
      " [4 5 6]\n",
      " [7 8 9]]\n",
      "\n",
      "Size: 9\n",
      "Middle  element of a 2D-array: 5\n"
     ]
    }
   ],
   "source": [
    "arr_2d = np.arange(1, 10).reshape(3,3)\n",
    "print(\"2d array:\\n\", arr_2d)\n",
    "print(\"\\nSize:\",arr_2d.size)\n",
    "print(\"Middle  element of a 2D-array:\" , arr_2d[1,1])"
   ]
  },
  {
   "cell_type": "markdown",
   "id": "5c964dcb-4079-4c1c-8211-057f7f6183b1",
   "metadata": {},
   "source": [
    "# Maths Tasks:\n",
    "- Find the mean, median, and standard deviation of the 1D array\n",
    "- Add 10 to every element of the 1D array\n",
    "- Multiply every element by 2\n",
    "- Use np.linspace(0, 1, 5) — explain what it returns\n",
    "- Generate a random 3×3 matrix of integers between 1 and 100\n"
   ]
  },
  {
   "cell_type": "code",
   "execution_count": 57,
   "id": "3d64932d-1ff2-4470-bd62-b24d2ee46d07",
   "metadata": {},
   "outputs": [
    {
     "name": "stdout",
     "output_type": "stream",
     "text": [
      "1d array:\n",
      " [10 11 12 13 14 15 16 17 18 19 20 21 22 23 24 25 26 27 28 29 30 31 32 33\n",
      " 34 35 36 37 38 39 40 41 42 43 44 45 46 47 48 49 50]\n",
      "\n",
      " Mean value: 30.0\n",
      "\n",
      " Median value: 30.0\n",
      "\n",
      " Standard deviation: 11.832159566199232\n",
      "\n",
      " Array after adding 10 to every element of 1d array:\n",
      " [20 21 22 23 24 25 26 27 28 29 30 31 32 33 34 35 36 37 38 39 40 41 42 43\n",
      " 44 45 46 47 48 49 50 51 52 53 54 55 56 57 58 59 60]\n",
      "\n",
      " Array after multiply 2 to every element of 1d array:\n",
      " [ 20  22  24  26  28  30  32  34  36  38  40  42  44  46  48  50  52  54\n",
      "  56  58  60  62  64  66  68  70  72  74  76  78  80  82  84  86  88  90\n",
      "  92  94  96  98 100]\n",
      "\n",
      " Linespace array: [0.   0.25 0.5  0.75 1.  ]\n"
     ]
    }
   ],
   "source": [
    "arr_1d = np.arange(10, 51)\n",
    "print(\"1d array:\\n\",arr_1d)\n",
    "mean_val = np.mean(arr_1d)\n",
    "print(\"\\n Mean value:\",mean_val)\n",
    "median_val = np.median(arr_1d)\n",
    "print(\"\\n Median value:\",mean_val)\n",
    "std_val = np.std(arr_1d)\n",
    "print(\"\\n Standard deviation:\",std_val)\n",
    "arr_plus_10 = arr_1d + 10\n",
    "print(\"\\n Array after adding 10 to every element of 1d array:\\n\", arr_plus_10)\n",
    "arr_mul_2 = arr_1d * 2\n",
    "print(\"\\n Array after multiply 2 to every element of 1d array:\\n\", arr_mul_2)\n",
    "\n",
    "\n",
    "\n"
   ]
  },
  {
   "cell_type": "markdown",
   "id": "19cdd7bf-2a23-465b-871a-eeb80c2ae3c7",
   "metadata": {},
   "source": [
    "- The np.linspace(start, stop, num) function returns num evenly spaced values between start and stop, inclusive."
   ]
  },
  {
   "cell_type": "code",
   "execution_count": 58,
   "id": "f04e68f9-4b87-4480-acba-07591c304b24",
   "metadata": {},
   "outputs": [
    {
     "name": "stdout",
     "output_type": "stream",
     "text": [
      "\n",
      " Linespace array: [0.   0.25 0.5  0.75 1.  ]\n"
     ]
    }
   ],
   "source": [
    "arr_linespace = np.linspace(0,1,5)\n",
    "print(\"\\n Linespace array:\",arr_linespace)"
   ]
  },
  {
   "cell_type": "code",
   "execution_count": 59,
   "id": "f706db86-5f16-4b37-8ec1-8828f8ffca21",
   "metadata": {},
   "outputs": [
    {
     "name": "stdout",
     "output_type": "stream",
     "text": [
      "\n",
      " Random Matrix: [[0.90648774 0.72406147 0.4904603 ]\n",
      " [0.02213141 0.14329512 0.94077412]\n",
      " [0.95270203 0.25631372 0.43207427]]\n"
     ]
    }
   ],
   "source": [
    "array = np.random.randint(3,3)\n",
    "print(\"\\n Random Matrix:\",array)"
   ]
  }
 ],
 "metadata": {
  "kernelspec": {
   "display_name": "Python 3 (ipykernel)",
   "language": "python",
   "name": "python3"
  },
  "language_info": {
   "codemirror_mode": {
    "name": "ipython",
    "version": 3
   },
   "file_extension": ".py",
   "mimetype": "text/x-python",
   "name": "python",
   "nbconvert_exporter": "python",
   "pygments_lexer": "ipython3",
   "version": "3.13.5"
  }
 },
 "nbformat": 4,
 "nbformat_minor": 5
}
