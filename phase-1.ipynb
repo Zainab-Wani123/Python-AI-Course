{
 "cells": [
  {
   "cell_type": "markdown",
   "id": "b54b55d7-1012-4921-bab1-13476b9c2cb1",
   "metadata": {},
   "source": [
    "## Numpy array and basics\n",
    "learn about numpy with chai aur code"
   ]
  },
  {
   "cell_type": "code",
   "execution_count": 1,
   "id": "98dd66da-e0dc-4086-8b78-fa0532bf330d",
   "metadata": {},
   "outputs": [],
   "source": [
    "import numpy as np"
   ]
  },
  {
   "cell_type": "markdown",
   "id": "6774d876-f8dd-433c-a423-7b808ca88405",
   "metadata": {},
   "source": [
    "### creating array from list"
   ]
  },
  {
   "cell_type": "code",
   "execution_count": 3,
   "id": "3957336d-a602-4b32-87b7-cd96b514b676",
   "metadata": {},
   "outputs": [
    {
     "name": "stdout",
     "output_type": "stream",
     "text": [
      "1D array: [1 2 3 4 5]\n",
      "2D array: [[1 2 3]\n",
      " [4 5 6]]\n"
     ]
    }
   ],
   "source": [
    "arr_1d = np.array([1,2,3,4,5])\n",
    "print(\"1D array:\", arr_1d)\n",
    "\n",
    "arr_2d = np.array([[1,2,3],[4,5,6]])\n",
    "print(\"2D array:\", arr_2d)"
   ]
  },
  {
   "cell_type": "markdown",
   "id": "2812aea5-2d65-4036-af47-6c57c5467aab",
   "metadata": {},
   "source": [
    "### List vs Numpy array"
   ]
  },
  {
   "cell_type": "code",
   "execution_count": 7,
   "id": "63f98f22-834a-4bde-9f2b-f681efff6490",
   "metadata": {},
   "outputs": [
    {
     "name": "stdout",
     "output_type": "stream",
     "text": [
      "Python list multiplication [1, 2, 3, 1, 2, 3]\n",
      "Python array multiplication [2 4 6]\n",
      "\n",
      " List operation time: 0.07419300079345703\n",
      "\n",
      " Numpy operation time: 0.01679825782775879\n"
     ]
    }
   ],
   "source": [
    "py_list = [1,2,3]# double the list print\n",
    "print(\"Python list multiplication\",py_list * 2)\n",
    "\n",
    "np_array=np.array([1,2,3]) #element wise multiplication\n",
    "print(\"Python array multiplication\", np_array * 2)\n",
    "\n",
    "import time\n",
    "start = time.time()\n",
    "py_list =[i*2 for i in range(1000000)]\n",
    "print(\"\\n List operation time:\", time.time() - start)\n",
    "\n",
    "start = time.time()\n",
    "py_list =np.arange(1000000) * 2\n",
    "print(\"\\n Numpy operation time:\", time.time() - start)"
   ]
  },
  {
   "cell_type": "markdown",
   "id": "3ea6b87d-3dbb-4cf5-ac94-b8e0cff2d72d",
   "metadata": {},
   "source": [
    "### Creating array from scratch"
   ]
  },
  {
   "cell_type": "code",
   "execution_count": 13,
   "id": "3bb30724-b369-4de5-83be-777d859280a9",
   "metadata": {},
   "outputs": [
    {
     "name": "stdout",
     "output_type": "stream",
     "text": [
      "Zeros array: \n",
      " [[0. 0. 0. 0.]\n",
      " [0. 0. 0. 0.]\n",
      " [0. 0. 0. 0.]]\n",
      "One array: \n",
      " [[1. 1. 1.]\n",
      " [1. 1. 1.]]\n",
      "Full array: \n",
      " [[7 7]\n",
      " [7 7]]\n",
      "Random array: \n",
      " [[0.61416638 0.2537235  0.77145154]\n",
      " [0.23968123 0.03563869 0.68866532]]\n",
      "Sequence array: \n",
      " [0 2 4 6 8]\n"
     ]
    }
   ],
   "source": [
    "zeros = np.zeros((3,4))\n",
    "print(\"Zeros array: \\n\",zeros)\n",
    "\n",
    "ones = np.ones((2,3))\n",
    "print(\"One array: \\n\",ones)\n",
    "\n",
    "full = np.full((2,2),7)\n",
    "print(\"Full array: \\n\",full)\n",
    "\n",
    "random = np.random.random((2,3))\n",
    "print(\"Random array: \\n\",random)\n",
    "\n",
    "sequence = np.arange(0,10,2)\n",
    "print(\"Sequence array: \\n\",sequence)\n"
   ]
  },
  {
   "cell_type": "markdown",
   "id": "3b8f435d-44e4-4076-96d8-6025af296cc6",
   "metadata": {},
   "source": [
    "### Vector, Matrix and Tensor"
   ]
  },
  {
   "cell_type": "code",
   "execution_count": 15,
   "id": "d3b92ce6-a24a-4c1a-a811-14129a65cbd5",
   "metadata": {},
   "outputs": [
    {
     "name": "stdout",
     "output_type": "stream",
     "text": [
      "Vector:\n",
      "  [1 2 3]\n",
      "Matrices:\n",
      "  [[1 2 3]\n",
      " [4 5 6]]\n",
      "Tensor:\n",
      "  [[[1 2]\n",
      "  [3 4]]\n",
      "\n",
      " [[5 6]\n",
      "  [7 8]]]\n"
     ]
    }
   ],
   "source": [
    "vector = np.array([1,2,3])\n",
    "print(\"Vector:\\n \", vector)\n",
    "\n",
    "matrix = np.array([[1,2,3],\n",
    "                   [4,5,6]])\n",
    "print(\"Matrices:\\n \", matrix)\n",
    "\n",
    "tensor = np.array([[[1,2],[3,4]],\n",
    "                   [[5,6],[7,8]]])\n",
    "print(\"Tensor:\\n \", tensor)"
   ]
  },
  {
   "cell_type": "markdown",
   "id": "dc4f07be-343f-4eb7-801e-385024e8dda2",
   "metadata": {},
   "source": [
    "## Array properties"
   ]
  },
  {
   "cell_type": "code",
   "execution_count": 17,
   "id": "4e8f9e6a-8e89-4ece-8c42-191119e873fb",
   "metadata": {},
   "outputs": [
    {
     "name": "stdout",
     "output_type": "stream",
     "text": [
      "Shape  (2, 3)\n",
      "Dimension  2\n",
      "Size 6\n",
      "Data type  int64\n"
     ]
    }
   ],
   "source": [
    "arr = np.array ([[1,2,3],\n",
    "                 [4,5,6]])\n",
    "print(\"Shape \", arr.shape)\n",
    "print(\"Dimension \", arr.ndim)\n",
    "print(\"Size\",arr.size)\n",
    "print(\"Data type \",arr.dtype) "
   ]
  },
  {
   "cell_type": "markdown",
   "id": "6e1aa090-6c90-446e-bdcc-c73dea7ae411",
   "metadata": {},
   "source": [
    "### Array reshape"
   ]
  },
  {
   "cell_type": "code",
   "execution_count": 25,
   "id": "5833a9e7-9265-4893-bb8d-191a793a3a2b",
   "metadata": {},
   "outputs": [
    {
     "name": "stdout",
     "output_type": "stream",
     "text": [
      "Original array:\n",
      "  [ 0  1  2  3  4  5  6  7  8  9 10 11]\n",
      "\n",
      " Reshaped array:\n",
      " [[ 0  1  2  3]\n",
      " [ 4  5  6  7]\n",
      " [ 8  9 10 11]]\n",
      "\n",
      " Flattened array: \n",
      " [ 0  1  2  3  4  5  6  7  8  9 10 11]\n",
      "\n",
      " Raveled array: \n",
      " [ 0  1  2  3  4  5  6  7  8  9 10 11]\n",
      "\n",
      " Transposed array: \n",
      " [[ 0  4  8]\n",
      " [ 1  5  9]\n",
      " [ 2  6 10]\n",
      " [ 3  7 11]]\n"
     ]
    }
   ],
   "source": [
    "arr = np.arange(12)\n",
    "print(\"Original array:\\n \", arr)\n",
    "\n",
    "reshaped = arr.reshape(3,4)\n",
    "print(\"\\n Reshaped array:\\n\", reshaped)\n",
    "\n",
    "flattend = reshaped.flatten()\n",
    "print(\"\\n Flattened array: \\n\",flattend)\n",
    "\n",
    "# ravel (return view,instead of copy)\n",
    "raveled = reshaped.ravel()\n",
    "print(\"\\n Raveled array: \\n\",raveled)\n",
    "\n",
    "#Transpose \n",
    "transpose = reshaped.T\n",
    "print(\"\\n Transposed array: \\n\",transpose)\n"
   ]
  },
  {
   "cell_type": "code",
   "execution_count": null,
   "id": "8301f3ae-7e4d-46ef-8718-0af7fbd0fc3f",
   "metadata": {},
   "outputs": [],
   "source": []
  }
 ],
 "metadata": {
  "kernelspec": {
   "display_name": "Python 3 (ipykernel)",
   "language": "python",
   "name": "python3"
  },
  "language_info": {
   "codemirror_mode": {
    "name": "ipython",
    "version": 3
   },
   "file_extension": ".py",
   "mimetype": "text/x-python",
   "name": "python",
   "nbconvert_exporter": "python",
   "pygments_lexer": "ipython3",
   "version": "3.13.5"
  }
 },
 "nbformat": 4,
 "nbformat_minor": 5
}
