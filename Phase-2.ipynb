{
 "cells": [
  {
   "cell_type": "markdown",
   "id": "c3f8a2f4-2b5e-4d5d-897a-19bdc338a4a7",
   "metadata": {},
   "source": [
    "## Numpy Array Operations:"
   ]
  },
  {
   "cell_type": "code",
   "execution_count": 1,
   "id": "d34145c9-0cf0-48fb-a1c2-fe0365597314",
   "metadata": {},
   "outputs": [],
   "source": [
    "import numpy as np"
   ]
  },
  {
   "cell_type": "markdown",
   "id": "d53b5537-17bf-4ffc-9a94-b64868f9c3cf",
   "metadata": {},
   "source": [
    "### Indexing and Slicing:"
   ]
  },
  {
   "cell_type": "code",
   "execution_count": 4,
   "id": "6fdf32af-6269-456a-a1f7-8528298ddc27",
   "metadata": {},
   "outputs": [
    {
     "name": "stdout",
     "output_type": "stream",
     "text": [
      "Basic Slicing:  [3 4 5 6 7]\n",
      "With Step:  [2 4 6 8]\n",
      "Negative Indexing:  8\n"
     ]
    }
   ],
   "source": [
    "arr = np.array([1,2,3,4,5,6,7,8,9,10])\n",
    "print(\"Basic Slicing: \", arr[2:7])\n",
    "print(\"With Step: \", arr[1:8:2])\n",
    "print(\"Negative Indexing: \", arr[-3])"
   ]
  },
  {
   "cell_type": "code",
   "execution_count": 12,
   "id": "f52e3771-20ea-4452-9d47-acbd80c32ffe",
   "metadata": {},
   "outputs": [
    {
     "name": "stdout",
     "output_type": "stream",
     "text": [
      "Specific element of a row  6\n",
      "Entire Row :  [4 5 6]\n",
      "Entire column:  [2 5 8]\n"
     ]
    }
   ],
   "source": [
    "arr_2d = np.array([[1,2,3],\n",
    "                   [4,5,6],\n",
    "                   [7,8,9]])\n",
    "print(\"Specific element of a row \" , arr_2d[1,2])\n",
    "print(\"Entire Row : \", arr_2d[1])\n",
    "print(\"Entire column: \", arr_2d[:,1])\n"
   ]
  },
  {
   "cell_type": "markdown",
   "id": "3aa14c9a-e2cd-4cba-a22e-d8280b967046",
   "metadata": {},
   "source": [
    "## Sorting"
   ]
  },
  {
   "cell_type": "code",
   "execution_count": 17,
   "id": "718699e9-feed-4e1e-b6e7-cd75ca920e57",
   "metadata": {},
   "outputs": [
    {
     "name": "stdout",
     "output_type": "stream",
     "text": [
      "Sorted Array:  [1 2 3 4 5 6 7 8 9]\n",
      "Sorted 2D array by column [[1 1]\n",
      " [2 2]\n",
      " [3 3]]\n"
     ]
    }
   ],
   "source": [
    "unsorted = np.array([3,5,7,2,4,1,6,9,8])\n",
    "print(\"Sorted Array: \", np.sort(unsorted))\n",
    "\n",
    "arr_2d_unsorted = np.array([[3,1],[1,2],[2,3]])\n",
    "print(\"Sorted 2D array by column\" , np.sort(arr_2d_unsorted,axis=0))"
   ]
  },
  {
   "cell_type": "markdown",
   "id": "c1fc28a3-020a-41fa-97e8-adcd1cf7b1ce",
   "metadata": {},
   "source": [
    "## Filtering:"
   ]
  },
  {
   "cell_type": "code",
   "execution_count": 19,
   "id": "c24c186b-1b6b-423b-97d5-e003ca266e79",
   "metadata": {},
   "outputs": [
    {
     "name": "stdout",
     "output_type": "stream",
     "text": [
      "Even numbers: [ 2  4  6  8 10]\n"
     ]
    }
   ],
   "source": [
    "numbers = np.array([1,2,3,4,5,6,7,8,9,10])\n",
    "even_number = numbers[numbers % 2 == 0]\n",
    "print(\"Even numbers:\", even_number)"
   ]
  },
  {
   "cell_type": "markdown",
   "id": "9a6a7d28-258f-43a8-8353-ecf587fe9f2d",
   "metadata": {},
   "source": [
    "## Filter with mask"
   ]
  },
  {
   "cell_type": "code",
   "execution_count": 24,
   "id": "5e5a018f-6540-439c-b3b5-9ef76089a86c",
   "metadata": {},
   "outputs": [
    {
     "name": "stdout",
     "output_type": "stream",
     "text": [
      "[False False False False False  True  True  True  True  True]\n",
      "Numbers greater than 5  [ 6  7  8  9 10]\n"
     ]
    }
   ],
   "source": [
    "mask = numbers > 5\n",
    "print(mask)\n",
    "print(\"Numbers greater than 5 \",numbers[mask])"
   ]
  },
  {
   "cell_type": "markdown",
   "id": "c8e7c629-1684-4084-8a71-e91be675294f",
   "metadata": {},
   "source": [
    "## Fancy indexing vs np.where()"
   ]
  },
  {
   "cell_type": "code",
   "execution_count": 23,
   "id": "01305be3-a6b3-4d60-b5fa-42a31c985390",
   "metadata": {},
   "outputs": [
    {
     "name": "stdout",
     "output_type": "stream",
     "text": [
      "[1 3 5]\n",
      "(array([5, 6, 7, 8, 9]),)\n",
      "NP where  [ 6  7  8  9 10]\n"
     ]
    }
   ],
   "source": [
    "indices =[0,2,4]\n",
    "print(numbers[indices]) \n",
    "\n",
    "where_result = np.where(numbers > 5)\n",
    "print(where_result)\n",
    "print(\"NP where \",numbers[where_result])\n"
   ]
  },
  {
   "cell_type": "code",
   "execution_count": 34,
   "id": "a21f68b8-8bc3-45b3-8c37-c3966c93e771",
   "metadata": {},
   "outputs": [
    {
     "name": "stdout",
     "output_type": "stream",
     "text": [
      "['false' 'false' 'false' 'false' 'false' 'true' 'true' 'true' 'true'\n",
      " 'true']\n"
     ]
    }
   ],
   "source": [
    "condition_array = np.where(numbers > 5,\"true\", \"false\")\n",
    "print(condition_array)"
   ]
  },
  {
   "cell_type": "markdown",
   "id": "ed2ac308-d7a4-46c4-b8c6-0fa201ce6d6f",
   "metadata": {},
   "source": [
    "## Merging,Adding and Removing Data:"
   ]
  },
  {
   "cell_type": "code",
   "execution_count": 37,
   "id": "231d9ba8-6389-4687-be2e-41cc9d98c509",
   "metadata": {},
   "outputs": [
    {
     "name": "stdout",
     "output_type": "stream",
     "text": [
      "combined arrays: [1 2 3 4 5 6]\n"
     ]
    }
   ],
   "source": [
    "arr1 = np.array([1,2,3])\n",
    "arr2 =np.array([4,5,6])\n",
    "\n",
    "combined =np.concatenate((arr1,arr2)) #as tuple\n",
    "print(\"combined arrays:\",combined)\n",
    "\n"
   ]
  },
  {
   "cell_type": "markdown",
   "id": "751f9618-cd7e-4b51-b742-8c6bdcbc1890",
   "metadata": {},
   "source": [
    "### Array compatibility:"
   ]
  },
  {
   "cell_type": "code",
   "execution_count": 43,
   "id": "50ff7a85-147c-4e7b-86ae-9c00af230968",
   "metadata": {},
   "outputs": [
    {
     "name": "stdout",
     "output_type": "stream",
     "text": [
      "compatibility Shapes True\n"
     ]
    }
   ],
   "source": [
    "a = np.array([1,2,3])\n",
    "b = np.array([4,5,6])\n",
    "c = np.array([7,8,9])\n",
    "\n",
    "print(\"compatibility Shapes\", a.shape == b.shape)"
   ]
  },
  {
   "cell_type": "code",
   "execution_count": 48,
   "id": "9bd707bb-f8ea-4875-be0b-3a5189cce9f2",
   "metadata": {},
   "outputs": [
    {
     "name": "stdout",
     "output_type": "stream",
     "text": [
      "original:\n",
      " [[1 2]\n",
      " [3 4]]\n",
      "With new row added:\n",
      " [[1 2]\n",
      " [3 4]\n",
      " [5 6]]\n",
      "Original:\n",
      " [[1 2]\n",
      " [3 4]]\n",
      "With new column added:\n",
      " [[1 2 7]\n",
      " [3 4 8]]\n"
     ]
    }
   ],
   "source": [
    "original = np.array([[1,2],[3,4]])\n",
    "new_row = np.array([5,6])\n",
    "\n",
    "# Vstack(vertical):adds new row to the 2d array\n",
    "with_new_row = np.vstack((original, new_row))\n",
    "print(\"original:\\n\",original)\n",
    "print(\"With new row added:\\n\",with_new_row)\n",
    "\n",
    "# Hstack(horizontal):adds new column to the 2d array\n",
    "new_col = np.array([[7],[8]])\n",
    "with_new_col = np.hstack((original,new_col))\n",
    "print(\"Original:\\n\",original)\n",
    "print(\"With new column added:\\n\",with_new_col)\n",
    "                         "
   ]
  },
  {
   "cell_type": "code",
   "execution_count": 51,
   "id": "249b483c-2e89-4a85-bdba-b794ca728de2",
   "metadata": {},
   "outputs": [
    {
     "name": "stdout",
     "output_type": "stream",
     "text": [
      "Array after Deletion:\n",
      " [1 2 4 5]\n"
     ]
    }
   ],
   "source": [
    "arr = np.array([1,2,3,4,5])\n",
    "deleted = np.delete(arr, 2)\n",
    "print(\"Array after Deletion:\\n\",deleted)"
   ]
  }
 ],
 "metadata": {
  "kernelspec": {
   "display_name": "Python 3 (ipykernel)",
   "language": "python",
   "name": "python3"
  },
  "language_info": {
   "codemirror_mode": {
    "name": "ipython",
    "version": 3
   },
   "file_extension": ".py",
   "mimetype": "text/x-python",
   "name": "python",
   "nbconvert_exporter": "python",
   "pygments_lexer": "ipython3",
   "version": "3.13.5"
  }
 },
 "nbformat": 4,
 "nbformat_minor": 5
}
