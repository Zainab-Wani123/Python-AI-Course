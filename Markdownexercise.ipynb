{
 "cells": [
  {
   "cell_type": "markdown",
   "id": "0a82fa05-84ff-4aa2-8997-84533947c03d",
   "metadata": {},
   "source": [
    "### 1. Create a main title using Markdown (# Jupyter + NumPy Practice)\n",
    "\n",
    "# Jupyter + Numpy Prcatice"
   ]
  },
  {
   "cell_type": "markdown",
   "id": "f0c0c013-f189-40ee-9707-6bee7286a80e",
   "metadata": {},
   "source": [
    "## 2. Write a short paragraph on what a Jupyter Notebook is and how it’s useful\n",
    "\n",
    "### A **Jupyter Notebook** is an open-source web application that allows users to create and share documents that contain **live code, equations, visualizations, and narrative text**. It's especially popular among data scientists, researchers, and educators because it supports multiple programming languages (like Python, R, and Julia) and makes it easy to perform data analysis, machine learning, and interactive computing. Jupyter Notebooks are useful for **documenting workflows**, **visualizing data in real-time**, and **presenting results** in a clear, reproducible format, making them ideal for both teaching and research.\n"
   ]
  },
  {
   "cell_type": "markdown",
   "id": "dad4b607-dbf0-406d-a523-6cc440557024",
   "metadata": {},
   "source": [
    "## 3. Add a bulleted list of 3 benefits of using Jupyter for ML\n",
    "\n",
    "###  The three benefits of using jupyter for ML are:\n",
    "\n",
    "- Interactive data exploration: Easily visualize and manipulate datasets on       the fly.\n",
    "- Experiment tracking: Keep code, outputs, and notes together in one        organized place.\n",
    "- Seamless integration with ML libraries: Works smoothly with tools like TensorFlow, scikit-learn, and PyTorch.\n"
   ]
  },
  {
   "cell_type": "markdown",
   "id": "b47f922f-6228-4034-b2e9-5f4a634ce218",
   "metadata": {},
   "source": [
    "## 4. Insert a LaTeX math equation: $a^2 + b^2 = c^2$\n",
    "\n",
    "$$a^2 + b^2 = c^2$$\n",
    "\n",
    "The Pythagorean theorem is written as $a^2 + b^2 = c^2$.\n",
    "\n"
   ]
  },
  {
   "cell_type": "markdown",
   "id": "dc532232-461b-4e07-b123-0848b4a1918e",
   "metadata": {},
   "source": [
    "### Use a Markdown cell below this code to explain what the code does.\n",
    "\n",
    " This code cell prints a simple greeting message to the screen using Python's built-in `print()` function.\n",
    "\n"
   ]
  },
  {
   "cell_type": "code",
   "execution_count": 1,
   "id": "724d2c60-01c4-4bf6-b383-8b2f34743df8",
   "metadata": {},
   "outputs": [
    {
     "name": "stdout",
     "output_type": "stream",
     "text": [
      "Hello from Jupyter!\n"
     ]
    }
   ],
   "source": [
    "#5.Create a code cell that prints: print(\"Hello from Jupyter!\")\n",
    "print(\"Hello from Jupyter!\")\n"
   ]
  }
 ],
 "metadata": {
  "kernelspec": {
   "display_name": "Python 3 (ipykernel)",
   "language": "python",
   "name": "python3"
  },
  "language_info": {
   "codemirror_mode": {
    "name": "ipython",
    "version": 3
   },
   "file_extension": ".py",
   "mimetype": "text/x-python",
   "name": "python",
   "nbconvert_exporter": "python",
   "pygments_lexer": "ipython3",
   "version": "3.13.5"
  }
 },
 "nbformat": 4,
 "nbformat_minor": 5
}
